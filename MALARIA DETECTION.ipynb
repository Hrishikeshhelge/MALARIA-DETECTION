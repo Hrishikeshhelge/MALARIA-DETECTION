{
 "cells": [
  {
   "cell_type": "markdown",
   "id": "supported-amateur",
   "metadata": {},
   "source": [
    "### IMPORT ESSENTIAL LIBRARIES"
   ]
  },
  {
   "cell_type": "code",
   "execution_count": 1,
   "id": "funny-nothing",
   "metadata": {},
   "outputs": [],
   "source": [
    "from tensorflow.keras.layers import Input, Lambda, Dense, Flatten,Conv2D\n",
    "from tensorflow.keras.models import Model\n",
    "from tensorflow.keras.applications.vgg19 import VGG19\n",
    "from tensorflow.keras.applications.resnet50 import preprocess_input\n",
    "from tensorflow.keras.preprocessing import image\n",
    "from tensorflow.keras.preprocessing.image import ImageDataGenerator,load_img\n",
    "from tensorflow.keras.models import Sequential\n",
    "import numpy as np\n",
    "from glob import glob\n",
    "import matplotlib.pyplot as plt"
   ]
  },
  {
   "cell_type": "code",
   "execution_count": 2,
   "id": "defensive-ordinary",
   "metadata": {},
   "outputs": [
    {
     "name": "stdout",
     "output_type": "stream",
     "text": [
      "2.4.1\n"
     ]
    }
   ],
   "source": [
    "import tensorflow as tf\n",
    "print(tf.__version__)"
   ]
  },
  {
   "cell_type": "code",
   "execution_count": 3,
   "id": "quick-venture",
   "metadata": {},
   "outputs": [],
   "source": [
    "# re-size all the images to this\n",
    "IMAGE_SIZE = [224, 224]\n",
    "\n",
    "train_path = 'cell_images/Train'\n",
    "valid_path = 'cell_images/Test'"
   ]
  },
  {
   "cell_type": "code",
   "execution_count": 4,
   "id": "herbal-problem",
   "metadata": {
    "scrolled": true
   },
   "outputs": [],
   "source": [
    "# Import the Vgg 19 Library as shown below and add preprocessing layer for the front of VGG\n",
    "# Here we will be using imagenet weights\n",
    "\n",
    "vgg19 = VGG19(input_shape=IMAGE_SIZE + [3], weights='imagenet', include_top=False)"
   ]
  },
  {
   "cell_type": "code",
   "execution_count": 5,
   "id": "numeric-sphere",
   "metadata": {},
   "outputs": [
    {
     "name": "stdout",
     "output_type": "stream",
     "text": [
      "Model: \"vgg19\"\n",
      "_________________________________________________________________\n",
      "Layer (type)                 Output Shape              Param #   \n",
      "=================================================================\n",
      "input_1 (InputLayer)         [(None, 224, 224, 3)]     0         \n",
      "_________________________________________________________________\n",
      "block1_conv1 (Conv2D)        (None, 224, 224, 64)      1792      \n",
      "_________________________________________________________________\n",
      "block1_conv2 (Conv2D)        (None, 224, 224, 64)      36928     \n",
      "_________________________________________________________________\n",
      "block1_pool (MaxPooling2D)   (None, 112, 112, 64)      0         \n",
      "_________________________________________________________________\n",
      "block2_conv1 (Conv2D)        (None, 112, 112, 128)     73856     \n",
      "_________________________________________________________________\n",
      "block2_conv2 (Conv2D)        (None, 112, 112, 128)     147584    \n",
      "_________________________________________________________________\n",
      "block2_pool (MaxPooling2D)   (None, 56, 56, 128)       0         \n",
      "_________________________________________________________________\n",
      "block3_conv1 (Conv2D)        (None, 56, 56, 256)       295168    \n",
      "_________________________________________________________________\n",
      "block3_conv2 (Conv2D)        (None, 56, 56, 256)       590080    \n",
      "_________________________________________________________________\n",
      "block3_conv3 (Conv2D)        (None, 56, 56, 256)       590080    \n",
      "_________________________________________________________________\n",
      "block3_conv4 (Conv2D)        (None, 56, 56, 256)       590080    \n",
      "_________________________________________________________________\n",
      "block3_pool (MaxPooling2D)   (None, 28, 28, 256)       0         \n",
      "_________________________________________________________________\n",
      "block4_conv1 (Conv2D)        (None, 28, 28, 512)       1180160   \n",
      "_________________________________________________________________\n",
      "block4_conv2 (Conv2D)        (None, 28, 28, 512)       2359808   \n",
      "_________________________________________________________________\n",
      "block4_conv3 (Conv2D)        (None, 28, 28, 512)       2359808   \n",
      "_________________________________________________________________\n",
      "block4_conv4 (Conv2D)        (None, 28, 28, 512)       2359808   \n",
      "_________________________________________________________________\n",
      "block4_pool (MaxPooling2D)   (None, 14, 14, 512)       0         \n",
      "_________________________________________________________________\n",
      "block5_conv1 (Conv2D)        (None, 14, 14, 512)       2359808   \n",
      "_________________________________________________________________\n",
      "block5_conv2 (Conv2D)        (None, 14, 14, 512)       2359808   \n",
      "_________________________________________________________________\n",
      "block5_conv3 (Conv2D)        (None, 14, 14, 512)       2359808   \n",
      "_________________________________________________________________\n",
      "block5_conv4 (Conv2D)        (None, 14, 14, 512)       2359808   \n",
      "_________________________________________________________________\n",
      "block5_pool (MaxPooling2D)   (None, 7, 7, 512)         0         \n",
      "=================================================================\n",
      "Total params: 20,024,384\n",
      "Trainable params: 20,024,384\n",
      "Non-trainable params: 0\n",
      "_________________________________________________________________\n"
     ]
    }
   ],
   "source": [
    "vgg19.summary()"
   ]
  },
  {
   "cell_type": "code",
   "execution_count": 6,
   "id": "prostate-opinion",
   "metadata": {},
   "outputs": [],
   "source": [
    "# Don't train existing weights\n",
    "for layer in vgg19.layers:\n",
    "    layer.trainable = False"
   ]
  },
  {
   "cell_type": "code",
   "execution_count": 7,
   "id": "according-trading",
   "metadata": {},
   "outputs": [],
   "source": [
    "# Useful for getting number of outputs classes\n",
    "folders = glob('Dataset/Train/*')"
   ]
  },
  {
   "cell_type": "code",
   "execution_count": 8,
   "id": "verbal-finger",
   "metadata": {},
   "outputs": [
    {
     "data": {
      "text/plain": [
       "['Dataset/Train\\\\Parasite', 'Dataset/Train\\\\Uninfected']"
      ]
     },
     "execution_count": 8,
     "metadata": {},
     "output_type": "execute_result"
    }
   ],
   "source": [
    "folders"
   ]
  },
  {
   "cell_type": "code",
   "execution_count": 9,
   "id": "joint-motor",
   "metadata": {},
   "outputs": [],
   "source": [
    "# Our layers - you can add more if you want\n",
    "x = Flatten()(vgg19.output)"
   ]
  },
  {
   "cell_type": "code",
   "execution_count": 10,
   "id": "brave-planning",
   "metadata": {},
   "outputs": [],
   "source": [
    "prediction = Dense(len(folders), activation='softmax')(x)\n",
    "\n",
    "# create a model object\n",
    "model = Model(inputs=vgg19.input, outputs=prediction)"
   ]
  },
  {
   "cell_type": "code",
   "execution_count": 11,
   "id": "floating-burning",
   "metadata": {},
   "outputs": [
    {
     "name": "stdout",
     "output_type": "stream",
     "text": [
      "Model: \"model\"\n",
      "_________________________________________________________________\n",
      "Layer (type)                 Output Shape              Param #   \n",
      "=================================================================\n",
      "input_1 (InputLayer)         [(None, 224, 224, 3)]     0         \n",
      "_________________________________________________________________\n",
      "block1_conv1 (Conv2D)        (None, 224, 224, 64)      1792      \n",
      "_________________________________________________________________\n",
      "block1_conv2 (Conv2D)        (None, 224, 224, 64)      36928     \n",
      "_________________________________________________________________\n",
      "block1_pool (MaxPooling2D)   (None, 112, 112, 64)      0         \n",
      "_________________________________________________________________\n",
      "block2_conv1 (Conv2D)        (None, 112, 112, 128)     73856     \n",
      "_________________________________________________________________\n",
      "block2_conv2 (Conv2D)        (None, 112, 112, 128)     147584    \n",
      "_________________________________________________________________\n",
      "block2_pool (MaxPooling2D)   (None, 56, 56, 128)       0         \n",
      "_________________________________________________________________\n",
      "block3_conv1 (Conv2D)        (None, 56, 56, 256)       295168    \n",
      "_________________________________________________________________\n",
      "block3_conv2 (Conv2D)        (None, 56, 56, 256)       590080    \n",
      "_________________________________________________________________\n",
      "block3_conv3 (Conv2D)        (None, 56, 56, 256)       590080    \n",
      "_________________________________________________________________\n",
      "block3_conv4 (Conv2D)        (None, 56, 56, 256)       590080    \n",
      "_________________________________________________________________\n",
      "block3_pool (MaxPooling2D)   (None, 28, 28, 256)       0         \n",
      "_________________________________________________________________\n",
      "block4_conv1 (Conv2D)        (None, 28, 28, 512)       1180160   \n",
      "_________________________________________________________________\n",
      "block4_conv2 (Conv2D)        (None, 28, 28, 512)       2359808   \n",
      "_________________________________________________________________\n",
      "block4_conv3 (Conv2D)        (None, 28, 28, 512)       2359808   \n",
      "_________________________________________________________________\n",
      "block4_conv4 (Conv2D)        (None, 28, 28, 512)       2359808   \n",
      "_________________________________________________________________\n",
      "block4_pool (MaxPooling2D)   (None, 14, 14, 512)       0         \n",
      "_________________________________________________________________\n",
      "block5_conv1 (Conv2D)        (None, 14, 14, 512)       2359808   \n",
      "_________________________________________________________________\n",
      "block5_conv2 (Conv2D)        (None, 14, 14, 512)       2359808   \n",
      "_________________________________________________________________\n",
      "block5_conv3 (Conv2D)        (None, 14, 14, 512)       2359808   \n",
      "_________________________________________________________________\n",
      "block5_conv4 (Conv2D)        (None, 14, 14, 512)       2359808   \n",
      "_________________________________________________________________\n",
      "block5_pool (MaxPooling2D)   (None, 7, 7, 512)         0         \n",
      "_________________________________________________________________\n",
      "flatten (Flatten)            (None, 25088)             0         \n",
      "_________________________________________________________________\n",
      "dense (Dense)                (None, 2)                 50178     \n",
      "=================================================================\n",
      "Total params: 20,074,562\n",
      "Trainable params: 50,178\n",
      "Non-trainable params: 20,024,384\n",
      "_________________________________________________________________\n"
     ]
    }
   ],
   "source": [
    "# View the structure of the model\n",
    "model.summary()"
   ]
  },
  {
   "cell_type": "code",
   "execution_count": 12,
   "id": "sitting-bachelor",
   "metadata": {},
   "outputs": [],
   "source": [
    "from tensorflow.keras.layers import MaxPooling2D"
   ]
  },
  {
   "cell_type": "code",
   "execution_count": 13,
   "id": "according-transparency",
   "metadata": {},
   "outputs": [
    {
     "name": "stdout",
     "output_type": "stream",
     "text": [
      "Model: \"sequential\"\n",
      "_________________________________________________________________\n",
      "Layer (type)                 Output Shape              Param #   \n",
      "=================================================================\n",
      "conv2d (Conv2D)              (None, 224, 224, 16)      208       \n",
      "_________________________________________________________________\n",
      "max_pooling2d (MaxPooling2D) (None, 112, 112, 16)      0         \n",
      "_________________________________________________________________\n",
      "conv2d_1 (Conv2D)            (None, 112, 112, 32)      2080      \n",
      "_________________________________________________________________\n",
      "max_pooling2d_1 (MaxPooling2 (None, 56, 56, 32)        0         \n",
      "_________________________________________________________________\n",
      "conv2d_2 (Conv2D)            (None, 56, 56, 64)        8256      \n",
      "_________________________________________________________________\n",
      "max_pooling2d_2 (MaxPooling2 (None, 28, 28, 64)        0         \n",
      "_________________________________________________________________\n",
      "flatten_1 (Flatten)          (None, 50176)             0         \n",
      "_________________________________________________________________\n",
      "dense_1 (Dense)              (None, 500)               25088500  \n",
      "_________________________________________________________________\n",
      "dense_2 (Dense)              (None, 2)                 1002      \n",
      "=================================================================\n",
      "Total params: 25,100,046\n",
      "Trainable params: 25,100,046\n",
      "Non-trainable params: 0\n",
      "_________________________________________________________________\n"
     ]
    }
   ],
   "source": [
    "### Create Model from scratch using CNN\n",
    "model=Sequential()\n",
    "model.add(Conv2D(filters=16,kernel_size=2,padding=\"same\",activation=\"relu\",input_shape=(224,224,3)))\n",
    "model.add(MaxPooling2D(pool_size=2))\n",
    "model.add(Conv2D(filters=32,kernel_size=2,padding=\"same\",activation =\"relu\"))\n",
    "model.add(MaxPooling2D(pool_size=2))\n",
    "model.add(Conv2D(filters=64,kernel_size=2,padding=\"same\",activation=\"relu\"))\n",
    "model.add(MaxPooling2D(pool_size=2))\n",
    "model.add(Flatten())\n",
    "model.add(Dense(500,activation=\"relu\"))\n",
    "model.add(Dense(2,activation=\"softmax\"))\n",
    "model.summary()"
   ]
  },
  {
   "cell_type": "code",
   "execution_count": 14,
   "id": "front-praise",
   "metadata": {},
   "outputs": [],
   "source": [
    "# tell the model what cost and optimization method to use\n",
    "model.compile(\n",
    "  loss='categorical_crossentropy',\n",
    "  optimizer='adam',\n",
    "  metrics=['accuracy']\n",
    ")"
   ]
  },
  {
   "cell_type": "code",
   "execution_count": 15,
   "id": "packed-chair",
   "metadata": {},
   "outputs": [],
   "source": [
    "# Use the Image Data Generator to import the images from the dataset\n",
    "from tensorflow.keras.preprocessing.image import ImageDataGenerator\n",
    "train_datagen = ImageDataGenerator(rescale = 1./255,\n",
    "                                  shear_range = 0.2,\n",
    "                                  zoom_range = 0.2,\n",
    "                                  horizontal_flip = True)\n",
    "test_datagen = ImageDataGenerator(rescale = 1./255)"
   ]
  },
  {
   "cell_type": "code",
   "execution_count": 17,
   "id": "smaller-singapore",
   "metadata": {},
   "outputs": [
    {
     "name": "stdout",
     "output_type": "stream",
     "text": [
      "Found 416 images belonging to 2 classes.\n"
     ]
    }
   ],
   "source": [
    "# Make sure you provide the same target size as initialied for the image size\n",
    "training_set = train_datagen.flow_from_directory('Dataset/Train',\n",
    "                                                target_size = (224, 224),\n",
    "                                                batch_size = 32,\n",
    "                                                class_mode = 'categorical')"
   ]
  },
  {
   "cell_type": "code",
   "execution_count": 18,
   "id": "computational-elimination",
   "metadata": {},
   "outputs": [
    {
     "data": {
      "text/plain": [
       "<tensorflow.python.keras.preprocessing.image.DirectoryIterator at 0x1b7d2ad1788>"
      ]
     },
     "execution_count": 18,
     "metadata": {},
     "output_type": "execute_result"
    }
   ],
   "source": [
    "training_set"
   ]
  },
  {
   "cell_type": "code",
   "execution_count": 19,
   "id": "direct-investor",
   "metadata": {},
   "outputs": [
    {
     "name": "stdout",
     "output_type": "stream",
     "text": [
      "Found 134 images belonging to 2 classes.\n"
     ]
    }
   ],
   "source": [
    "test_set = test_datagen.flow_from_directory('Dataset/Test',\n",
    "                                            target_size = (224, 224),\n",
    "                                            batch_size = 32,\n",
    "                                            class_mode = 'categorical')"
   ]
  },
  {
   "cell_type": "code",
   "execution_count": 22,
   "id": "coral-whole",
   "metadata": {},
   "outputs": [
    {
     "name": "stderr",
     "output_type": "stream",
     "text": [
      "C:\\Users\\Hrishi_rich\\anaconda3\\envs\\md\\lib\\site-packages\\tensorflow\\python\\keras\\engine\\training.py:1844: UserWarning: `Model.fit_generator` is deprecated and will be removed in a future version. Please use `Model.fit`, which supports generators.\n",
      "  warnings.warn('`Model.fit_generator` is deprecated and '\n"
     ]
    },
    {
     "name": "stdout",
     "output_type": "stream",
     "text": [
      "Epoch 1/50\n",
      "13/13 [==============================] - 20s 1s/step - loss: 1.3212 - accuracy: 0.5065 - val_loss: 0.6994 - val_accuracy: 0.4552\n",
      "Epoch 2/50\n",
      "13/13 [==============================] - 13s 966ms/step - loss: 0.6869 - accuracy: 0.5595 - val_loss: 0.7096 - val_accuracy: 0.4254\n",
      "Epoch 3/50\n",
      "13/13 [==============================] - 12s 926ms/step - loss: 0.6721 - accuracy: 0.6028 - val_loss: 0.6888 - val_accuracy: 0.4925\n",
      "Epoch 4/50\n",
      "13/13 [==============================] - 14s 1s/step - loss: 0.6291 - accuracy: 0.6562 - val_loss: 0.7843 - val_accuracy: 0.3955\n",
      "Epoch 5/50\n",
      "13/13 [==============================] - 17s 1s/step - loss: 0.5539 - accuracy: 0.7128 - val_loss: 1.0586 - val_accuracy: 0.6791\n",
      "Epoch 6/50\n",
      "13/13 [==============================] - 16s 1s/step - loss: 0.6896 - accuracy: 0.6865 - val_loss: 0.7791 - val_accuracy: 0.4925\n",
      "Epoch 7/50\n",
      "13/13 [==============================] - 16s 1s/step - loss: 0.4646 - accuracy: 0.7644 - val_loss: 0.8480 - val_accuracy: 0.4701\n",
      "Epoch 8/50\n",
      "13/13 [==============================] - 17s 1s/step - loss: 0.4379 - accuracy: 0.7952 - val_loss: 0.7862 - val_accuracy: 0.5299\n",
      "Epoch 9/50\n",
      "13/13 [==============================] - 17s 1s/step - loss: 0.4069 - accuracy: 0.7811 - val_loss: 0.6987 - val_accuracy: 0.6642\n",
      "Epoch 10/50\n",
      "13/13 [==============================] - 16s 1s/step - loss: 0.4468 - accuracy: 0.7562 - val_loss: 0.7283 - val_accuracy: 0.5373\n",
      "Epoch 11/50\n",
      "13/13 [==============================] - 16s 1s/step - loss: 0.3911 - accuracy: 0.8222 - val_loss: 0.6487 - val_accuracy: 0.6343\n",
      "Epoch 12/50\n",
      "13/13 [==============================] - 15s 1s/step - loss: 0.3913 - accuracy: 0.8111 - val_loss: 0.5997 - val_accuracy: 0.6045\n",
      "Epoch 13/50\n",
      "13/13 [==============================] - 14s 1s/step - loss: 0.3106 - accuracy: 0.8680 - val_loss: 0.6251 - val_accuracy: 0.6567\n",
      "Epoch 14/50\n",
      "13/13 [==============================] - 14s 1s/step - loss: 0.2919 - accuracy: 0.8809 - val_loss: 0.9921 - val_accuracy: 0.6567\n",
      "Epoch 15/50\n",
      "13/13 [==============================] - 16s 1s/step - loss: 0.3644 - accuracy: 0.8420 - val_loss: 0.5841 - val_accuracy: 0.6940\n",
      "Epoch 16/50\n",
      "13/13 [==============================] - 18s 1s/step - loss: 0.3061 - accuracy: 0.8580 - val_loss: 0.4605 - val_accuracy: 0.7836\n",
      "Epoch 17/50\n",
      "13/13 [==============================] - 17s 1s/step - loss: 0.2896 - accuracy: 0.8906 - val_loss: 0.4880 - val_accuracy: 0.7761\n",
      "Epoch 18/50\n",
      "13/13 [==============================] - 14s 1s/step - loss: 0.3466 - accuracy: 0.8638 - val_loss: 0.8409 - val_accuracy: 0.5522\n",
      "Epoch 19/50\n",
      "13/13 [==============================] - 15s 1s/step - loss: 0.3374 - accuracy: 0.8575 - val_loss: 0.5078 - val_accuracy: 0.7164\n",
      "Epoch 20/50\n",
      "13/13 [==============================] - 16s 1s/step - loss: 0.2476 - accuracy: 0.9096 - val_loss: 0.4302 - val_accuracy: 0.7985\n",
      "Epoch 21/50\n",
      "13/13 [==============================] - 16s 1s/step - loss: 0.1984 - accuracy: 0.9259 - val_loss: 0.3574 - val_accuracy: 0.8358\n",
      "Epoch 22/50\n",
      "13/13 [==============================] - 15s 1s/step - loss: 0.1787 - accuracy: 0.9331 - val_loss: 0.2969 - val_accuracy: 0.8731\n",
      "Epoch 23/50\n",
      "13/13 [==============================] - 15s 1s/step - loss: 0.1581 - accuracy: 0.9549 - val_loss: 0.3567 - val_accuracy: 0.8657\n",
      "Epoch 24/50\n",
      "13/13 [==============================] - 15s 1s/step - loss: 0.1880 - accuracy: 0.9534 - val_loss: 0.3801 - val_accuracy: 0.8134\n",
      "Epoch 25/50\n",
      "13/13 [==============================] - 15s 1s/step - loss: 0.1458 - accuracy: 0.9546 - val_loss: 0.2819 - val_accuracy: 0.8881\n",
      "Epoch 26/50\n",
      "13/13 [==============================] - 16s 1s/step - loss: 0.1786 - accuracy: 0.9266 - val_loss: 0.2976 - val_accuracy: 0.8806\n",
      "Epoch 27/50\n",
      "13/13 [==============================] - 15s 1s/step - loss: 0.1551 - accuracy: 0.9605 - val_loss: 0.2448 - val_accuracy: 0.9030\n",
      "Epoch 28/50\n",
      "13/13 [==============================] - 17s 1s/step - loss: 0.1292 - accuracy: 0.9486 - val_loss: 0.3601 - val_accuracy: 0.8284\n",
      "Epoch 29/50\n",
      "13/13 [==============================] - 17s 1s/step - loss: 0.1357 - accuracy: 0.9531 - val_loss: 0.2568 - val_accuracy: 0.9030\n",
      "Epoch 30/50\n",
      "13/13 [==============================] - 17s 1s/step - loss: 0.1315 - accuracy: 0.9633 - val_loss: 0.3252 - val_accuracy: 0.8582\n",
      "Epoch 31/50\n",
      "13/13 [==============================] - 17s 1s/step - loss: 0.0710 - accuracy: 0.9718 - val_loss: 0.2444 - val_accuracy: 0.8955\n",
      "Epoch 32/50\n",
      "13/13 [==============================] - 17s 1s/step - loss: 0.0957 - accuracy: 0.9753 - val_loss: 0.2143 - val_accuracy: 0.9254\n",
      "Epoch 33/50\n",
      "13/13 [==============================] - 17s 1s/step - loss: 0.1003 - accuracy: 0.9744 - val_loss: 0.4036 - val_accuracy: 0.8507\n",
      "Epoch 34/50\n",
      "13/13 [==============================] - 18s 1s/step - loss: 0.1168 - accuracy: 0.9537 - val_loss: 0.2524 - val_accuracy: 0.8881\n",
      "Epoch 35/50\n",
      "13/13 [==============================] - 17s 1s/step - loss: 0.0681 - accuracy: 0.9815 - val_loss: 0.8472 - val_accuracy: 0.6940\n",
      "Epoch 36/50\n",
      "13/13 [==============================] - 17s 1s/step - loss: 0.2831 - accuracy: 0.9030 - val_loss: 0.4481 - val_accuracy: 0.7761\n",
      "Epoch 37/50\n",
      "13/13 [==============================] - 17s 1s/step - loss: 0.1677 - accuracy: 0.9437 - val_loss: 0.1541 - val_accuracy: 0.9627\n",
      "Epoch 38/50\n",
      "13/13 [==============================] - 18s 1s/step - loss: 0.0928 - accuracy: 0.9773 - val_loss: 0.1439 - val_accuracy: 0.9403\n",
      "Epoch 39/50\n",
      "13/13 [==============================] - 17s 1s/step - loss: 0.1172 - accuracy: 0.9746 - val_loss: 0.1634 - val_accuracy: 0.9179\n",
      "Epoch 40/50\n",
      "13/13 [==============================] - 17s 1s/step - loss: 0.0514 - accuracy: 0.9932 - val_loss: 0.1536 - val_accuracy: 0.9179\n",
      "Epoch 41/50\n",
      "13/13 [==============================] - 17s 1s/step - loss: 0.0878 - accuracy: 0.9800 - val_loss: 0.2973 - val_accuracy: 0.8582\n",
      "Epoch 42/50\n",
      "13/13 [==============================] - 17s 1s/step - loss: 0.0937 - accuracy: 0.9654 - val_loss: 0.2663 - val_accuracy: 0.8881\n",
      "Epoch 43/50\n",
      "13/13 [==============================] - 17s 1s/step - loss: 0.0661 - accuracy: 0.9815 - val_loss: 0.4411 - val_accuracy: 0.8433\n",
      "Epoch 44/50\n",
      "13/13 [==============================] - 15s 1s/step - loss: 0.0843 - accuracy: 0.9671 - val_loss: 0.1822 - val_accuracy: 0.9254\n",
      "Epoch 45/50\n",
      "13/13 [==============================] - 14s 1s/step - loss: 0.0469 - accuracy: 0.9943 - val_loss: 0.2455 - val_accuracy: 0.9030\n",
      "Epoch 46/50\n",
      "13/13 [==============================] - 15s 1s/step - loss: 0.0643 - accuracy: 0.9760 - val_loss: 0.2853 - val_accuracy: 0.8731\n",
      "Epoch 47/50\n",
      "13/13 [==============================] - 15s 1s/step - loss: 0.0674 - accuracy: 0.9786 - val_loss: 0.1368 - val_accuracy: 0.9552\n",
      "Epoch 48/50\n",
      "13/13 [==============================] - 15s 1s/step - loss: 0.0383 - accuracy: 0.9953 - val_loss: 0.2080 - val_accuracy: 0.9254\n",
      "Epoch 49/50\n",
      "13/13 [==============================] - 14s 1s/step - loss: 0.0397 - accuracy: 0.9864 - val_loss: 0.2578 - val_accuracy: 0.8955\n",
      "Epoch 50/50\n",
      "13/13 [==============================] - 14s 1s/step - loss: 0.0708 - accuracy: 0.9818 - val_loss: 0.2910 - val_accuracy: 0.8731\n"
     ]
    }
   ],
   "source": [
    "# fit the model\n",
    "# Run the cell. It will take some time to execute\n",
    "r = model.fit_generator(\n",
    "  training_set,\n",
    "  validation_data=test_set,\n",
    "  epochs=50,\n",
    "  steps_per_epoch=len(training_set),\n",
    "  validation_steps=len(test_set)\n",
    ")"
   ]
  },
  {
   "cell_type": "code",
   "execution_count": 23,
   "id": "based-graduate",
   "metadata": {},
   "outputs": [
    {
     "data": {
      "image/png": "[encoded data removed]",
      "text/plain": [
       "<Figure size 432x288 with 1 Axes>"
      ]
     },
     "metadata": {
      "needs_background": "light"
     },
     "output_type": "display_data"
    },
    {
     "data": {
      "image/png": "[encoded data removed]",
      "text/plain": [
       "<Figure size 432x288 with 1 Axes>"
      ]
     },
     "metadata": {
      "needs_background": "light"
     },
     "output_type": "display_data"
    },
    {
     "data": {
      "text/plain": [
       "<Figure size 432x288 with 0 Axes>"
      ]
     },
     "metadata": {},
     "output_type": "display_data"
    }
   ],
   "source": [
    "# Plot the loss\n",
    "plt.plot(r.history['loss'], label='train loss')\n",
    "plt.plot(r.history['val_loss'], label='val loss')\n",
    "plt.legend()\n",
    "plt.show()\n",
    "plt.savefig('lossVal_loss')\n",
    "\n",
    "# Plot the accuracy\n",
    "plt.plot(r.history['accuracy'], label='train acc')\n",
    "plt.plot(r.history['val_accuracy'], label='val acc')\n",
    "plt.legend()\n",
    "plt.show()\n",
    "plt.savefig('AccVal_acc')"
   ]
  },
  {
   "cell_type": "code",
   "execution_count": 24,
   "id": "violent-forum",
   "metadata": {},
   "outputs": [],
   "source": [
    "# Save it as a h5 file\n",
    "\n",
    "from tensorflow.keras.models import load_model\n",
    "model.save('model_vgg19.h5')"
   ]
  },
  {
   "cell_type": "code",
   "execution_count": 25,
   "id": "medical-fruit",
   "metadata": {},
   "outputs": [],
   "source": [
    "y_pred = model.predict(test_set)"
   ]
  },
  {
   "cell_type": "code",
   "execution_count": 26,
   "id": "former-deputy",
   "metadata": {},
   "outputs": [
    {
     "data": {
      "text/plain": [
       "array([[1.00000000e+00, 1.71098058e-09],\n",
       "       [4.34386134e-02, 9.56561387e-01],\n",
       "       [9.99990821e-01, 9.16522185e-06],\n",
       "       [9.99999881e-01, 1.21922412e-07],\n",
       "       [1.00000000e+00, 6.63357715e-13],\n",
       "       [9.99659896e-01, 3.40101542e-04],\n",
       "       [4.96840328e-02, 9.50315952e-01],\n",
       "       [9.99999881e-01, 6.07011046e-08],\n",
       "       [9.33745921e-01, 6.62540644e-02],\n",
       "       [9.99533176e-01, 4.66862781e-04],\n",
       "       [9.85823870e-01, 1.41761843e-02],\n",
       "       [9.99600470e-01, 3.99499404e-04],\n",
       "       [9.85646427e-01, 1.43536171e-02],\n",
       "       [1.15806041e-02, 9.88419414e-01],\n",
       "       [8.86146277e-02, 9.11385357e-01],\n",
       "       [9.99823511e-01, 1.76471993e-04],\n",
       "       [8.13787580e-02, 9.18621302e-01],\n",
       "       [9.99976754e-01, 2.31960366e-05],\n",
       "       [9.99538898e-01, 4.61149582e-04],\n",
       "       [9.14383888e-01, 8.56161341e-02],\n",
       "       [1.11996969e-02, 9.88800287e-01],\n",
       "       [2.60556880e-02, 9.73944366e-01],\n",
       "       [9.64611530e-01, 3.53885144e-02],\n",
       "       [2.54299901e-02, 9.74569976e-01],\n",
       "       [3.74365956e-01, 6.25634015e-01],\n",
       "       [1.94240451e-01, 8.05759549e-01],\n",
       "       [2.57385354e-02, 9.74261403e-01],\n",
       "       [9.81590331e-01, 1.84096675e-02],\n",
       "       [9.99175966e-01, 8.23997485e-04],\n",
       "       [9.99857306e-01, 1.42696124e-04],\n",
       "       [9.99473631e-01, 5.26395044e-04],\n",
       "       [9.62807536e-01, 3.71924080e-02],\n",
       "       [8.89470220e-01, 1.10529788e-01],\n",
       "       [9.99728858e-01, 2.71172728e-04],\n",
       "       [2.89057270e-02, 9.71094310e-01],\n",
       "       [1.02106584e-02, 9.89789307e-01],\n",
       "       [7.54441261e-01, 2.45558813e-01],\n",
       "       [6.08621649e-02, 9.39137816e-01],\n",
       "       [1.00000000e+00, 1.06702945e-11],\n",
       "       [5.86148724e-02, 9.41385150e-01],\n",
       "       [9.99957561e-01, 4.24525388e-05],\n",
       "       [9.96850193e-01, 3.14976927e-03],\n",
       "       [9.99995112e-01, 4.83350868e-06],\n",
       "       [2.15550303e-03, 9.97844458e-01],\n",
       "       [3.55319113e-01, 6.44680858e-01],\n",
       "       [9.97054458e-01, 2.94549856e-03],\n",
       "       [9.99929428e-01, 7.06099745e-05],\n",
       "       [7.68248886e-02, 9.23175097e-01],\n",
       "       [5.20542860e-02, 9.47945774e-01],\n",
       "       [9.99077559e-01, 9.22373845e-04],\n",
       "       [3.74375097e-02, 9.62562501e-01],\n",
       "       [3.86622064e-02, 9.61337864e-01],\n",
       "       [9.99962807e-01, 3.71650785e-05],\n",
       "       [1.44899078e-02, 9.85510111e-01],\n",
       "       [3.03793908e-03, 9.96962011e-01],\n",
       "       [9.96678352e-01, 3.32168280e-03],\n",
       "       [4.96204942e-02, 9.50379491e-01],\n",
       "       [1.71159744e-01, 8.28840315e-01],\n",
       "       [9.99761760e-01, 2.38283261e-04],\n",
       "       [1.17884010e-01, 8.82115960e-01],\n",
       "       [6.04531318e-02, 9.39546883e-01],\n",
       "       [3.26270424e-02, 9.67373013e-01],\n",
       "       [3.20380516e-02, 9.67961967e-01],\n",
       "       [3.01514387e-01, 6.98485613e-01],\n",
       "       [9.99995232e-01, 4.82560108e-06],\n",
       "       [9.88315880e-01, 1.16841132e-02],\n",
       "       [2.58997194e-02, 9.74100292e-01],\n",
       "       [9.97785330e-01, 2.21460592e-03],\n",
       "       [9.99999285e-01, 7.41189126e-07],\n",
       "       [9.99997616e-01, 2.34570734e-06],\n",
       "       [3.19864869e-01, 6.80135071e-01],\n",
       "       [6.44040294e-03, 9.93559599e-01],\n",
       "       [5.41300438e-02, 9.45869923e-01],\n",
       "       [3.51044610e-02, 9.64895546e-01],\n",
       "       [9.19950660e-03, 9.90800440e-01],\n",
       "       [9.98695672e-01, 1.30435510e-03],\n",
       "       [9.96962965e-01, 3.03700916e-03],\n",
       "       [9.99913216e-01, 8.68348579e-05],\n",
       "       [1.34784803e-02, 9.86521602e-01],\n",
       "       [9.99997973e-01, 2.02570936e-06],\n",
       "       [9.98732865e-01, 1.26718171e-03],\n",
       "       [9.65149462e-01, 3.48504968e-02],\n",
       "       [2.41017621e-02, 9.75898266e-01],\n",
       "       [1.00000000e+00, 2.88464612e-08],\n",
       "       [1.24521274e-02, 9.87547874e-01],\n",
       "       [9.98804569e-01, 1.19548477e-03],\n",
       "       [9.94174182e-01, 5.82578080e-03],\n",
       "       [9.96187627e-01, 3.81237827e-03],\n",
       "       [4.46177945e-02, 9.55382168e-01],\n",
       "       [1.99304079e-03, 9.98006999e-01],\n",
       "       [1.11672275e-01, 8.88327658e-01],\n",
       "       [7.93317378e-01, 2.06682578e-01],\n",
       "       [1.03320237e-02, 9.89668012e-01],\n",
       "       [9.99840140e-01, 1.59847899e-04],\n",
       "       [9.99999881e-01, 1.54576128e-07],\n",
       "       [9.99931097e-01, 6.89402805e-05],\n",
       "       [9.99632359e-01, 3.67681205e-04],\n",
       "       [9.25303578e-01, 7.46964514e-02],\n",
       "       [1.00000000e+00, 4.69646189e-09],\n",
       "       [9.99977231e-01, 2.27928231e-05],\n",
       "       [9.99291897e-01, 7.08117266e-04],\n",
       "       [9.99968410e-01, 3.15693978e-05],\n",
       "       [9.87208903e-01, 1.27910851e-02],\n",
       "       [5.82387857e-03, 9.94176149e-01],\n",
       "       [9.85988975e-01, 1.40110087e-02],\n",
       "       [9.99997377e-01, 2.66923143e-06],\n",
       "       [4.60754428e-03, 9.95392442e-01],\n",
       "       [9.99991417e-01, 8.57864961e-06],\n",
       "       [1.79614723e-01, 8.20385337e-01],\n",
       "       [9.99514222e-01, 4.85721946e-04],\n",
       "       [9.99724448e-01, 2.75573489e-04],\n",
       "       [4.04875547e-01, 5.95124424e-01],\n",
       "       [9.99936104e-01, 6.39377613e-05],\n",
       "       [1.86186982e-03, 9.98138070e-01],\n",
       "       [9.97146189e-01, 2.85377936e-03],\n",
       "       [3.14277858e-02, 9.68572199e-01],\n",
       "       [3.19436342e-02, 9.68056321e-01],\n",
       "       [9.89740252e-01, 1.02597233e-02],\n",
       "       [1.11641206e-01, 8.88358831e-01],\n",
       "       [3.66655439e-02, 9.63334501e-01],\n",
       "       [2.75610778e-02, 9.72438872e-01],\n",
       "       [9.99396682e-01, 6.03357621e-04],\n",
       "       [2.69890308e-01, 7.30109632e-01],\n",
       "       [9.99998808e-01, 1.14912132e-06],\n",
       "       [7.67196774e-01, 2.32803181e-01],\n",
       "       [1.70081109e-02, 9.82991874e-01],\n",
       "       [1.90091953e-02, 9.80990767e-01],\n",
       "       [9.80084538e-01, 1.99154988e-02],\n",
       "       [9.78552327e-02, 9.02144790e-01],\n",
       "       [9.12122335e-03, 9.90878761e-01],\n",
       "       [7.34006539e-02, 9.26599383e-01],\n",
       "       [9.99460280e-01, 5.39750967e-04],\n",
       "       [1.01698926e-02, 9.89830077e-01],\n",
       "       [9.99163508e-01, 8.36474355e-04]], dtype=float32)"
      ]
     },
     "execution_count": 26,
     "metadata": {},
     "output_type": "execute_result"
    }
   ],
   "source": [
    "y_pred"
   ]
  },
  {
   "cell_type": "code",
   "execution_count": 27,
   "id": "visible-titanium",
   "metadata": {},
   "outputs": [],
   "source": [
    "import numpy as np\n",
    "y_pred = np.argmax(y_pred, axis=1)"
   ]
  },
  {
   "cell_type": "code",
   "execution_count": 28,
   "id": "complex-adult",
   "metadata": {},
   "outputs": [
    {
     "data": {
      "text/plain": [
       "array([0, 1, 0, 0, 0, 0, 1, 0, 0, 0, 0, 0, 0, 1, 1, 0, 1, 0, 0, 0, 1, 1,\n",
       "       0, 1, 1, 1, 1, 0, 0, 0, 0, 0, 0, 0, 1, 1, 0, 1, 0, 1, 0, 0, 0, 1,\n",
       "       1, 0, 0, 1, 1, 0, 1, 1, 0, 1, 1, 0, 1, 1, 0, 1, 1, 1, 1, 1, 0, 0,\n",
       "       1, 0, 0, 0, 1, 1, 1, 1, 1, 0, 0, 0, 1, 0, 0, 0, 1, 0, 1, 0, 0, 0,\n",
       "       1, 1, 1, 0, 1, 0, 0, 0, 0, 0, 0, 0, 0, 0, 0, 1, 0, 0, 1, 0, 1, 0,\n",
       "       0, 1, 0, 1, 0, 1, 1, 0, 1, 1, 1, 0, 1, 0, 0, 1, 1, 0, 1, 1, 1, 0,\n",
       "       1, 0], dtype=int64)"
      ]
     },
     "execution_count": 28,
     "metadata": {},
     "output_type": "execute_result"
    }
   ],
   "source": [
    "y_pred"
   ]
  },
  {
   "cell_type": "code",
   "execution_count": 29,
   "id": "dutch-joint",
   "metadata": {},
   "outputs": [],
   "source": [
    "from tensorflow.keras.models import load_model\n",
    "from tensorflow.keras.preprocessing import image"
   ]
  },
  {
   "cell_type": "code",
   "execution_count": 31,
   "id": "dirty-product",
   "metadata": {},
   "outputs": [],
   "source": [
    "model=load_model('model_vgg19.h5')"
   ]
  },
  {
   "cell_type": "code",
   "execution_count": 32,
   "id": "speaking-identification",
   "metadata": {},
   "outputs": [],
   "source": [
    "img=image.load_img('Dataset/Test/Uninfected/2.png',target_size=(224,224))"
   ]
  },
  {
   "cell_type": "code",
   "execution_count": 33,
   "id": "introductory-notification",
   "metadata": {},
   "outputs": [
    {
     "data": {
      "text/plain": [
       "array([[[0., 0., 0.],\n",
       "        [0., 0., 0.],\n",
       "        [0., 0., 0.],\n",
       "        ...,\n",
       "        [0., 0., 0.],\n",
       "        [0., 0., 0.],\n",
       "        [0., 0., 0.]],\n",
       "\n",
       "       [[0., 0., 0.],\n",
       "        [0., 0., 0.],\n",
       "        [0., 0., 0.],\n",
       "        ...,\n",
       "        [0., 0., 0.],\n",
       "        [0., 0., 0.],\n",
       "        [0., 0., 0.]],\n",
       "\n",
       "       [[0., 0., 0.],\n",
       "        [0., 0., 0.],\n",
       "        [0., 0., 0.],\n",
       "        ...,\n",
       "        [0., 0., 0.],\n",
       "        [0., 0., 0.],\n",
       "        [0., 0., 0.]],\n",
       "\n",
       "       ...,\n",
       "\n",
       "       [[0., 0., 0.],\n",
       "        [0., 0., 0.],\n",
       "        [0., 0., 0.],\n",
       "        ...,\n",
       "        [0., 0., 0.],\n",
       "        [0., 0., 0.],\n",
       "        [0., 0., 0.]],\n",
       "\n",
       "       [[0., 0., 0.],\n",
       "        [0., 0., 0.],\n",
       "        [0., 0., 0.],\n",
       "        ...,\n",
       "        [0., 0., 0.],\n",
       "        [0., 0., 0.],\n",
       "        [0., 0., 0.]],\n",
       "\n",
       "       [[0., 0., 0.],\n",
       "        [0., 0., 0.],\n",
       "        [0., 0., 0.],\n",
       "        ...,\n",
       "        [0., 0., 0.],\n",
       "        [0., 0., 0.],\n",
       "        [0., 0., 0.]]], dtype=float32)"
      ]
     },
     "execution_count": 33,
     "metadata": {},
     "output_type": "execute_result"
    }
   ],
   "source": [
    "x=image.img_to_array(img)\n",
    "x"
   ]
  },
  {
   "cell_type": "code",
   "execution_count": 34,
   "id": "breathing-victor",
   "metadata": {},
   "outputs": [
    {
     "data": {
      "text/plain": [
       "(224, 224, 3)"
      ]
     },
     "execution_count": 34,
     "metadata": {},
     "output_type": "execute_result"
    }
   ],
   "source": [
    "x.shape"
   ]
  },
  {
   "cell_type": "code",
   "execution_count": 35,
   "id": "destroyed-transition",
   "metadata": {},
   "outputs": [],
   "source": [
    "x=x/255"
   ]
  },
  {
   "cell_type": "code",
   "execution_count": 36,
   "id": "accompanied-characterization",
   "metadata": {},
   "outputs": [
    {
     "data": {
      "text/plain": [
       "(1, 224, 224, 3)"
      ]
     },
     "execution_count": 36,
     "metadata": {},
     "output_type": "execute_result"
    }
   ],
   "source": [
    "x=np.expand_dims(x,axis=0)\n",
    "img_data=preprocess_input(x)\n",
    "img_data.shape"
   ]
  },
  {
   "cell_type": "code",
   "execution_count": 37,
   "id": "private-sierra",
   "metadata": {},
   "outputs": [
    {
     "data": {
      "text/plain": [
       "array([[0., 1.]], dtype=float32)"
      ]
     },
     "execution_count": 37,
     "metadata": {},
     "output_type": "execute_result"
    }
   ],
   "source": [
    "model.predict(img_data)"
   ]
  },
  {
   "cell_type": "code",
   "execution_count": 38,
   "id": "wired-playback",
   "metadata": {},
   "outputs": [],
   "source": [
    "a=np.argmax(model.predict(img_data), axis=1)"
   ]
  },
  {
   "cell_type": "code",
   "execution_count": 39,
   "id": "minute-cisco",
   "metadata": {},
   "outputs": [
    {
     "name": "stdout",
     "output_type": "stream",
     "text": [
      "Uninfected\n"
     ]
    }
   ],
   "source": [
    "if(a==1):\n",
    "    print(\"Uninfected\")\n",
    "else:\n",
    "    print(\"Infected\")"
   ]
  },
  {
   "cell_type": "code",
   "execution_count": null,
   "id": "radical-essence",
   "metadata": {},
   "outputs": [],
   "source": []
  }
 ],
 "metadata": {
  "kernelspec": {
   "display_name": "Python 3",
   "language": "python",
   "name": "python3"
  },
  "language_info": {
   "codemirror_mode": {
    "name": "ipython",
    "version": 3
   },
   "file_extension": ".py",
   "mimetype": "text/x-python",
   "name": "python",
   "nbconvert_exporter": "python",
   "pygments_lexer": "ipython3",
   "version": "3.7.9"
  }
 },
 "nbformat": 4,
 "nbformat_minor": 5
}
